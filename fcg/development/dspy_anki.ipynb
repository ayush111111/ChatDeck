{
 "cells": [
  {
   "cell_type": "code",
   "execution_count": null,
   "id": "9c0d93d5",
   "metadata": {},
   "outputs": [],
   "source": [
    "import dspy\n",
    "from typing import List\n",
    "\n",
    "class obtainConcepts(dspy.Signature):\n"
   ]
  }
 ],
 "metadata": {
  "kernelspec": {
   "display_name": ".venv (3.12.2)",
   "language": "python",
   "name": "python3"
  },
  "language_info": {
   "name": "python",
   "version": "3.12.2"
  }
 },
 "nbformat": 4,
 "nbformat_minor": 5
}
